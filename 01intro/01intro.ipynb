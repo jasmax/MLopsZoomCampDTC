{
  "nbformat": 4,
  "nbformat_minor": 0,
  "metadata": {
    "colab": {
      "name": "Untitled2.ipynb",
      "provenance": [],
      "collapsed_sections": []
    },
    "kernelspec": {
      "name": "python3",
      "display_name": "Python 3"
    },
    "language_info": {
      "name": "python"
    }
  },
  "cells": [
    {
      "cell_type": "code",
      "source": [
        "!wget https://nyc-tlc.s3.amazonaws.com/trip+data/fhv_tripdata_2021-01.parquet"
      ],
      "metadata": {
        "colab": {
          "base_uri": "https://localhost:8080/"
        },
        "id": "Eo5YmbOhoNmf",
        "outputId": "86a86f9a-00ef-46eb-896b-a1ba690aac86"
      },
      "execution_count": 32,
      "outputs": [
        {
          "output_type": "stream",
          "name": "stdout",
          "text": [
            "--2022-05-24 15:36:50--  https://nyc-tlc.s3.amazonaws.com/trip+data/fhv_tripdata_2021-01.parquet\n",
            "Resolving nyc-tlc.s3.amazonaws.com (nyc-tlc.s3.amazonaws.com)... 52.217.96.156\n",
            "Connecting to nyc-tlc.s3.amazonaws.com (nyc-tlc.s3.amazonaws.com)|52.217.96.156|:443... connected.\n",
            "HTTP request sent, awaiting response... 200 OK\n",
            "Length: 11886281 (11M) [binary/octet-stream]\n",
            "Saving to: ‘fhv_tripdata_2021-01.parquet.2’\n",
            "\n",
            "fhv_tripdata_2021-0 100%[===================>]  11.33M  18.1MB/s    in 0.6s    \n",
            "\n",
            "2022-05-24 15:36:51 (18.1 MB/s) - ‘fhv_tripdata_2021-01.parquet.2’ saved [11886281/11886281]\n",
            "\n"
          ]
        }
      ]
    },
    {
      "cell_type": "code",
      "source": [
        "!wget https://nyc-tlc.s3.amazonaws.com/trip+data/fhv_tripdata_2021-02.parquet"
      ],
      "metadata": {
        "colab": {
          "base_uri": "https://localhost:8080/"
        },
        "id": "fckczt2coNW3",
        "outputId": "2d747db9-a728-40d9-e360-40249c119516"
      },
      "execution_count": 33,
      "outputs": [
        {
          "output_type": "stream",
          "name": "stdout",
          "text": [
            "--2022-05-24 15:36:51--  https://nyc-tlc.s3.amazonaws.com/trip+data/fhv_tripdata_2021-02.parquet\n",
            "Resolving nyc-tlc.s3.amazonaws.com (nyc-tlc.s3.amazonaws.com)... 52.217.196.249\n",
            "Connecting to nyc-tlc.s3.amazonaws.com (nyc-tlc.s3.amazonaws.com)|52.217.196.249|:443... connected.\n",
            "HTTP request sent, awaiting response... 200 OK\n",
            "Length: 10645466 (10M) [binary/octet-stream]\n",
            "Saving to: ‘fhv_tripdata_2021-02.parquet.2’\n",
            "\n",
            "fhv_tripdata_2021-0 100%[===================>]  10.15M  16.1MB/s    in 0.6s    \n",
            "\n",
            "2022-05-24 15:36:52 (16.1 MB/s) - ‘fhv_tripdata_2021-02.parquet.2’ saved [10645466/10645466]\n",
            "\n"
          ]
        }
      ]
    },
    {
      "cell_type": "code",
      "execution_count": 34,
      "metadata": {
        "id": "f88FJ79dm5KK"
      },
      "outputs": [],
      "source": [
        "import pandas as pd\n",
        "import numpy as np\n",
        "import seaborn as sns\n",
        "import matplotlib.pyplot as plt  "
      ]
    },
    {
      "cell_type": "code",
      "source": [
        "df_jan.head()"
      ],
      "metadata": {
        "colab": {
          "base_uri": "https://localhost:8080/",
          "height": 206
        },
        "id": "mv9ACvDHnCvi",
        "outputId": "fdcab1b2-7b01-4a5e-c4fb-e93a4c48df69"
      },
      "execution_count": 35,
      "outputs": [
        {
          "output_type": "execute_result",
          "data": {
            "text/html": [
              "\n",
              "  <div id=\"df-e979626b-b76f-4a86-93e7-febb8cc839f1\">\n",
              "    <div class=\"colab-df-container\">\n",
              "      <div>\n",
              "<style scoped>\n",
              "    .dataframe tbody tr th:only-of-type {\n",
              "        vertical-align: middle;\n",
              "    }\n",
              "\n",
              "    .dataframe tbody tr th {\n",
              "        vertical-align: top;\n",
              "    }\n",
              "\n",
              "    .dataframe thead th {\n",
              "        text-align: right;\n",
              "    }\n",
              "</style>\n",
              "<table border=\"1\" class=\"dataframe\">\n",
              "  <thead>\n",
              "    <tr style=\"text-align: right;\">\n",
              "      <th></th>\n",
              "      <th>dispatching_base_num</th>\n",
              "      <th>pickup_datetime</th>\n",
              "      <th>dropOff_datetime</th>\n",
              "      <th>PUlocationID</th>\n",
              "      <th>DOlocationID</th>\n",
              "      <th>SR_Flag</th>\n",
              "      <th>Affiliated_base_number</th>\n",
              "    </tr>\n",
              "  </thead>\n",
              "  <tbody>\n",
              "    <tr>\n",
              "      <th>0</th>\n",
              "      <td>B00009</td>\n",
              "      <td>2021-01-01 00:27:00</td>\n",
              "      <td>2021-01-01 00:44:00</td>\n",
              "      <td>NaN</td>\n",
              "      <td>NaN</td>\n",
              "      <td>None</td>\n",
              "      <td>B00009</td>\n",
              "    </tr>\n",
              "    <tr>\n",
              "      <th>1</th>\n",
              "      <td>B00009</td>\n",
              "      <td>2021-01-01 00:50:00</td>\n",
              "      <td>2021-01-01 01:07:00</td>\n",
              "      <td>NaN</td>\n",
              "      <td>NaN</td>\n",
              "      <td>None</td>\n",
              "      <td>B00009</td>\n",
              "    </tr>\n",
              "    <tr>\n",
              "      <th>2</th>\n",
              "      <td>B00013</td>\n",
              "      <td>2021-01-01 00:01:00</td>\n",
              "      <td>2021-01-01 01:51:00</td>\n",
              "      <td>NaN</td>\n",
              "      <td>NaN</td>\n",
              "      <td>None</td>\n",
              "      <td>B00013</td>\n",
              "    </tr>\n",
              "    <tr>\n",
              "      <th>3</th>\n",
              "      <td>B00037</td>\n",
              "      <td>2021-01-01 00:13:09</td>\n",
              "      <td>2021-01-01 00:21:26</td>\n",
              "      <td>NaN</td>\n",
              "      <td>72.0</td>\n",
              "      <td>None</td>\n",
              "      <td>B00037</td>\n",
              "    </tr>\n",
              "    <tr>\n",
              "      <th>4</th>\n",
              "      <td>B00037</td>\n",
              "      <td>2021-01-01 00:38:31</td>\n",
              "      <td>2021-01-01 00:53:44</td>\n",
              "      <td>NaN</td>\n",
              "      <td>61.0</td>\n",
              "      <td>None</td>\n",
              "      <td>B00037</td>\n",
              "    </tr>\n",
              "  </tbody>\n",
              "</table>\n",
              "</div>\n",
              "      <button class=\"colab-df-convert\" onclick=\"convertToInteractive('df-e979626b-b76f-4a86-93e7-febb8cc839f1')\"\n",
              "              title=\"Convert this dataframe to an interactive table.\"\n",
              "              style=\"display:none;\">\n",
              "        \n",
              "  <svg xmlns=\"http://www.w3.org/2000/svg\" height=\"24px\"viewBox=\"0 0 24 24\"\n",
              "       width=\"24px\">\n",
              "    <path d=\"M0 0h24v24H0V0z\" fill=\"none\"/>\n",
              "    <path d=\"M18.56 5.44l.94 2.06.94-2.06 2.06-.94-2.06-.94-.94-2.06-.94 2.06-2.06.94zm-11 1L8.5 8.5l.94-2.06 2.06-.94-2.06-.94L8.5 2.5l-.94 2.06-2.06.94zm10 10l.94 2.06.94-2.06 2.06-.94-2.06-.94-.94-2.06-.94 2.06-2.06.94z\"/><path d=\"M17.41 7.96l-1.37-1.37c-.4-.4-.92-.59-1.43-.59-.52 0-1.04.2-1.43.59L10.3 9.45l-7.72 7.72c-.78.78-.78 2.05 0 2.83L4 21.41c.39.39.9.59 1.41.59.51 0 1.02-.2 1.41-.59l7.78-7.78 2.81-2.81c.8-.78.8-2.07 0-2.86zM5.41 20L4 18.59l7.72-7.72 1.47 1.35L5.41 20z\"/>\n",
              "  </svg>\n",
              "      </button>\n",
              "      \n",
              "  <style>\n",
              "    .colab-df-container {\n",
              "      display:flex;\n",
              "      flex-wrap:wrap;\n",
              "      gap: 12px;\n",
              "    }\n",
              "\n",
              "    .colab-df-convert {\n",
              "      background-color: #E8F0FE;\n",
              "      border: none;\n",
              "      border-radius: 50%;\n",
              "      cursor: pointer;\n",
              "      display: none;\n",
              "      fill: #1967D2;\n",
              "      height: 32px;\n",
              "      padding: 0 0 0 0;\n",
              "      width: 32px;\n",
              "    }\n",
              "\n",
              "    .colab-df-convert:hover {\n",
              "      background-color: #E2EBFA;\n",
              "      box-shadow: 0px 1px 2px rgba(60, 64, 67, 0.3), 0px 1px 3px 1px rgba(60, 64, 67, 0.15);\n",
              "      fill: #174EA6;\n",
              "    }\n",
              "\n",
              "    [theme=dark] .colab-df-convert {\n",
              "      background-color: #3B4455;\n",
              "      fill: #D2E3FC;\n",
              "    }\n",
              "\n",
              "    [theme=dark] .colab-df-convert:hover {\n",
              "      background-color: #434B5C;\n",
              "      box-shadow: 0px 1px 3px 1px rgba(0, 0, 0, 0.15);\n",
              "      filter: drop-shadow(0px 1px 2px rgba(0, 0, 0, 0.3));\n",
              "      fill: #FFFFFF;\n",
              "    }\n",
              "  </style>\n",
              "\n",
              "      <script>\n",
              "        const buttonEl =\n",
              "          document.querySelector('#df-e979626b-b76f-4a86-93e7-febb8cc839f1 button.colab-df-convert');\n",
              "        buttonEl.style.display =\n",
              "          google.colab.kernel.accessAllowed ? 'block' : 'none';\n",
              "\n",
              "        async function convertToInteractive(key) {\n",
              "          const element = document.querySelector('#df-e979626b-b76f-4a86-93e7-febb8cc839f1');\n",
              "          const dataTable =\n",
              "            await google.colab.kernel.invokeFunction('convertToInteractive',\n",
              "                                                     [key], {});\n",
              "          if (!dataTable) return;\n",
              "\n",
              "          const docLinkHtml = 'Like what you see? Visit the ' +\n",
              "            '<a target=\"_blank\" href=https://colab.research.google.com/notebooks/data_table.ipynb>data table notebook</a>'\n",
              "            + ' to learn more about interactive tables.';\n",
              "          element.innerHTML = '';\n",
              "          dataTable['output_type'] = 'display_data';\n",
              "          await google.colab.output.renderOutput(dataTable, element);\n",
              "          const docLink = document.createElement('div');\n",
              "          docLink.innerHTML = docLinkHtml;\n",
              "          element.appendChild(docLink);\n",
              "        }\n",
              "      </script>\n",
              "    </div>\n",
              "  </div>\n",
              "  "
            ],
            "text/plain": [
              "  dispatching_base_num     pickup_datetime  ... SR_Flag  Affiliated_base_number\n",
              "0               B00009 2021-01-01 00:27:00  ...    None                  B00009\n",
              "1               B00009 2021-01-01 00:50:00  ...    None                  B00009\n",
              "2               B00013 2021-01-01 00:01:00  ...    None                  B00013\n",
              "3               B00037 2021-01-01 00:13:09  ...    None                  B00037\n",
              "4               B00037 2021-01-01 00:38:31  ...    None                  B00037\n",
              "\n",
              "[5 rows x 7 columns]"
            ]
          },
          "metadata": {},
          "execution_count": 35
        }
      ]
    },
    {
      "cell_type": "code",
      "source": [
        "df_feb.head()"
      ],
      "metadata": {
        "colab": {
          "base_uri": "https://localhost:8080/",
          "height": 206
        },
        "id": "YsuH5NMonCr0",
        "outputId": "fee03245-7c4f-4a0e-e28b-eb1a6688a0e9"
      },
      "execution_count": 36,
      "outputs": [
        {
          "output_type": "execute_result",
          "data": {
            "text/html": [
              "\n",
              "  <div id=\"df-823f4062-be97-4915-90f6-92676e0635dc\">\n",
              "    <div class=\"colab-df-container\">\n",
              "      <div>\n",
              "<style scoped>\n",
              "    .dataframe tbody tr th:only-of-type {\n",
              "        vertical-align: middle;\n",
              "    }\n",
              "\n",
              "    .dataframe tbody tr th {\n",
              "        vertical-align: top;\n",
              "    }\n",
              "\n",
              "    .dataframe thead th {\n",
              "        text-align: right;\n",
              "    }\n",
              "</style>\n",
              "<table border=\"1\" class=\"dataframe\">\n",
              "  <thead>\n",
              "    <tr style=\"text-align: right;\">\n",
              "      <th></th>\n",
              "      <th>dispatching_base_num</th>\n",
              "      <th>pickup_datetime</th>\n",
              "      <th>dropOff_datetime</th>\n",
              "      <th>PUlocationID</th>\n",
              "      <th>DOlocationID</th>\n",
              "      <th>SR_Flag</th>\n",
              "      <th>Affiliated_base_number</th>\n",
              "    </tr>\n",
              "  </thead>\n",
              "  <tbody>\n",
              "    <tr>\n",
              "      <th>0</th>\n",
              "      <td>B00013</td>\n",
              "      <td>2021-02-01 00:01:00</td>\n",
              "      <td>2021-02-01 01:33:00</td>\n",
              "      <td>NaN</td>\n",
              "      <td>NaN</td>\n",
              "      <td>None</td>\n",
              "      <td>B00014</td>\n",
              "    </tr>\n",
              "    <tr>\n",
              "      <th>1</th>\n",
              "      <td>B00021</td>\n",
              "      <td>2021-02-01 00:55:40</td>\n",
              "      <td>2021-02-01 01:06:20</td>\n",
              "      <td>173.0</td>\n",
              "      <td>82.0</td>\n",
              "      <td>None</td>\n",
              "      <td>B00021</td>\n",
              "    </tr>\n",
              "    <tr>\n",
              "      <th>2</th>\n",
              "      <td>B00021</td>\n",
              "      <td>2021-02-01 00:14:03</td>\n",
              "      <td>2021-02-01 00:28:37</td>\n",
              "      <td>173.0</td>\n",
              "      <td>56.0</td>\n",
              "      <td>None</td>\n",
              "      <td>B00021</td>\n",
              "    </tr>\n",
              "    <tr>\n",
              "      <th>3</th>\n",
              "      <td>B00021</td>\n",
              "      <td>2021-02-01 00:27:48</td>\n",
              "      <td>2021-02-01 00:35:45</td>\n",
              "      <td>82.0</td>\n",
              "      <td>129.0</td>\n",
              "      <td>None</td>\n",
              "      <td>B00021</td>\n",
              "    </tr>\n",
              "    <tr>\n",
              "      <th>4</th>\n",
              "      <td>B00037</td>\n",
              "      <td>2021-02-01 00:12:50</td>\n",
              "      <td>2021-02-01 00:26:38</td>\n",
              "      <td>NaN</td>\n",
              "      <td>225.0</td>\n",
              "      <td>None</td>\n",
              "      <td>B00037</td>\n",
              "    </tr>\n",
              "  </tbody>\n",
              "</table>\n",
              "</div>\n",
              "      <button class=\"colab-df-convert\" onclick=\"convertToInteractive('df-823f4062-be97-4915-90f6-92676e0635dc')\"\n",
              "              title=\"Convert this dataframe to an interactive table.\"\n",
              "              style=\"display:none;\">\n",
              "        \n",
              "  <svg xmlns=\"http://www.w3.org/2000/svg\" height=\"24px\"viewBox=\"0 0 24 24\"\n",
              "       width=\"24px\">\n",
              "    <path d=\"M0 0h24v24H0V0z\" fill=\"none\"/>\n",
              "    <path d=\"M18.56 5.44l.94 2.06.94-2.06 2.06-.94-2.06-.94-.94-2.06-.94 2.06-2.06.94zm-11 1L8.5 8.5l.94-2.06 2.06-.94-2.06-.94L8.5 2.5l-.94 2.06-2.06.94zm10 10l.94 2.06.94-2.06 2.06-.94-2.06-.94-.94-2.06-.94 2.06-2.06.94z\"/><path d=\"M17.41 7.96l-1.37-1.37c-.4-.4-.92-.59-1.43-.59-.52 0-1.04.2-1.43.59L10.3 9.45l-7.72 7.72c-.78.78-.78 2.05 0 2.83L4 21.41c.39.39.9.59 1.41.59.51 0 1.02-.2 1.41-.59l7.78-7.78 2.81-2.81c.8-.78.8-2.07 0-2.86zM5.41 20L4 18.59l7.72-7.72 1.47 1.35L5.41 20z\"/>\n",
              "  </svg>\n",
              "      </button>\n",
              "      \n",
              "  <style>\n",
              "    .colab-df-container {\n",
              "      display:flex;\n",
              "      flex-wrap:wrap;\n",
              "      gap: 12px;\n",
              "    }\n",
              "\n",
              "    .colab-df-convert {\n",
              "      background-color: #E8F0FE;\n",
              "      border: none;\n",
              "      border-radius: 50%;\n",
              "      cursor: pointer;\n",
              "      display: none;\n",
              "      fill: #1967D2;\n",
              "      height: 32px;\n",
              "      padding: 0 0 0 0;\n",
              "      width: 32px;\n",
              "    }\n",
              "\n",
              "    .colab-df-convert:hover {\n",
              "      background-color: #E2EBFA;\n",
              "      box-shadow: 0px 1px 2px rgba(60, 64, 67, 0.3), 0px 1px 3px 1px rgba(60, 64, 67, 0.15);\n",
              "      fill: #174EA6;\n",
              "    }\n",
              "\n",
              "    [theme=dark] .colab-df-convert {\n",
              "      background-color: #3B4455;\n",
              "      fill: #D2E3FC;\n",
              "    }\n",
              "\n",
              "    [theme=dark] .colab-df-convert:hover {\n",
              "      background-color: #434B5C;\n",
              "      box-shadow: 0px 1px 3px 1px rgba(0, 0, 0, 0.15);\n",
              "      filter: drop-shadow(0px 1px 2px rgba(0, 0, 0, 0.3));\n",
              "      fill: #FFFFFF;\n",
              "    }\n",
              "  </style>\n",
              "\n",
              "      <script>\n",
              "        const buttonEl =\n",
              "          document.querySelector('#df-823f4062-be97-4915-90f6-92676e0635dc button.colab-df-convert');\n",
              "        buttonEl.style.display =\n",
              "          google.colab.kernel.accessAllowed ? 'block' : 'none';\n",
              "\n",
              "        async function convertToInteractive(key) {\n",
              "          const element = document.querySelector('#df-823f4062-be97-4915-90f6-92676e0635dc');\n",
              "          const dataTable =\n",
              "            await google.colab.kernel.invokeFunction('convertToInteractive',\n",
              "                                                     [key], {});\n",
              "          if (!dataTable) return;\n",
              "\n",
              "          const docLinkHtml = 'Like what you see? Visit the ' +\n",
              "            '<a target=\"_blank\" href=https://colab.research.google.com/notebooks/data_table.ipynb>data table notebook</a>'\n",
              "            + ' to learn more about interactive tables.';\n",
              "          element.innerHTML = '';\n",
              "          dataTable['output_type'] = 'display_data';\n",
              "          await google.colab.output.renderOutput(dataTable, element);\n",
              "          const docLink = document.createElement('div');\n",
              "          docLink.innerHTML = docLinkHtml;\n",
              "          element.appendChild(docLink);\n",
              "        }\n",
              "      </script>\n",
              "    </div>\n",
              "  </div>\n",
              "  "
            ],
            "text/plain": [
              "  dispatching_base_num     pickup_datetime  ... SR_Flag  Affiliated_base_number\n",
              "0               B00013 2021-02-01 00:01:00  ...    None                  B00014\n",
              "1      B00021          2021-02-01 00:55:40  ...    None         B00021         \n",
              "2      B00021          2021-02-01 00:14:03  ...    None         B00021         \n",
              "3      B00021          2021-02-01 00:27:48  ...    None         B00021         \n",
              "4               B00037 2021-02-01 00:12:50  ...    None                  B00037\n",
              "\n",
              "[5 rows x 7 columns]"
            ]
          },
          "metadata": {},
          "execution_count": 36
        }
      ]
    },
    {
      "cell_type": "code",
      "source": [
        "df_jan = pd.read_parquet(\"fhv_tripdata_2021-01.parquet\")\n",
        "df_feb = pd.read_parquet(\"fhv_tripdata_2021-02.parquet\")\n",
        "df_jan.shape"
      ],
      "metadata": {
        "colab": {
          "base_uri": "https://localhost:8080/"
        },
        "id": "Z1NH95shnA6K",
        "outputId": "c3db6e0f-2b3c-4e74-9eec-175d7e270b42"
      },
      "execution_count": 37,
      "outputs": [
        {
          "output_type": "execute_result",
          "data": {
            "text/plain": [
              "(1154112, 7)"
            ]
          },
          "metadata": {},
          "execution_count": 37
        }
      ]
    },
    {
      "cell_type": "code",
      "source": [
        "#çompute trip duration in minutes\n",
        "df_jan[\"duration\"] = df_jan.dropOff_datetime - df_jan.pickup_datetime\n",
        "df_jan.duration = df_jan.duration.apply(lambda td: td.total_seconds()/60)"
      ],
      "metadata": {
        "id": "_SW2N7PPnCoc"
      },
      "execution_count": 38,
      "outputs": []
    },
    {
      "cell_type": "code",
      "source": [
        "#Calculating the mean duration for January\n",
        "df_jan.duration.mean()"
      ],
      "metadata": {
        "colab": {
          "base_uri": "https://localhost:8080/"
        },
        "id": "fhW12H09nClS",
        "outputId": "15a30125-852a-4ada-8c97-ed6a9ecb8855"
      },
      "execution_count": 39,
      "outputs": [
        {
          "output_type": "execute_result",
          "data": {
            "text/plain": [
              "19.1672240937939"
            ]
          },
          "metadata": {},
          "execution_count": 39
        }
      ]
    },
    {
      "cell_type": "code",
      "source": [
        "df_jan.shape"
      ],
      "metadata": {
        "colab": {
          "base_uri": "https://localhost:8080/"
        },
        "id": "An-FkTp2nCht",
        "outputId": "b0276a3e-1b01-405c-d44b-720e3d221aa3"
      },
      "execution_count": 40,
      "outputs": [
        {
          "output_type": "execute_result",
          "data": {
            "text/plain": [
              "(1154112, 8)"
            ]
          },
          "metadata": {},
          "execution_count": 40
        }
      ]
    },
    {
      "cell_type": "code",
      "source": [
        "#Number of records to be removed which are not between 1 and 60mins\n",
        "df_jan_removed = df_jan[(df_jan.duration<1)|(df_jan.duration >60)]\n",
        "df_jan_removed.shape"
      ],
      "metadata": {
        "colab": {
          "base_uri": "https://localhost:8080/"
        },
        "id": "JFxzWbWgnAwy",
        "outputId": "fbaa158b-6f48-4679-d4ca-757ed40b900e"
      },
      "execution_count": 41,
      "outputs": [
        {
          "output_type": "execute_result",
          "data": {
            "text/plain": [
              "(44286, 8)"
            ]
          },
          "metadata": {},
          "execution_count": 41
        }
      ]
    },
    {
      "cell_type": "code",
      "source": [
        "#filter all trips which are not between 1 and 60mins\n",
        "df_jan = df_jan[(df_jan.duration>=1) & (df_jan.duration <=60)]\n",
        "df_jan.shape"
      ],
      "metadata": {
        "colab": {
          "base_uri": "https://localhost:8080/"
        },
        "id": "mLDxXJNfnAry",
        "outputId": "34526c69-06ff-479e-cdcf-09d9c4ef5263"
      },
      "execution_count": 42,
      "outputs": [
        {
          "output_type": "execute_result",
          "data": {
            "text/plain": [
              "(1109826, 8)"
            ]
          },
          "metadata": {},
          "execution_count": 42
        }
      ]
    },
    {
      "cell_type": "code",
      "source": [
        "#count of missing values\n",
        "df_jan.isnull().sum(axis = 0)"
      ],
      "metadata": {
        "colab": {
          "base_uri": "https://localhost:8080/"
        },
        "id": "ggMLSBNsnAnr",
        "outputId": "a04d8582-3d54-40de-f1b3-ea56d32761e6"
      },
      "execution_count": 43,
      "outputs": [
        {
          "output_type": "execute_result",
          "data": {
            "text/plain": [
              "dispatching_base_num            0\n",
              "pickup_datetime                 0\n",
              "dropOff_datetime                0\n",
              "PUlocationID               927008\n",
              "DOlocationID               147907\n",
              "SR_Flag                   1109826\n",
              "Affiliated_base_number        773\n",
              "duration                        0\n",
              "dtype: int64"
            ]
          },
          "metadata": {},
          "execution_count": 43
        }
      ]
    },
    {
      "cell_type": "code",
      "source": [
        "#calculate the missing values\n",
        "miss_val_percent = 100 * df_jan.isnull().sum() / len(df_jan)\n",
        "miss_val_percent"
      ],
      "metadata": {
        "colab": {
          "base_uri": "https://localhost:8080/"
        },
        "id": "zXU_PbkpnAkS",
        "outputId": "84fb323f-102f-4dce-9e80-2792bd6ae0c2"
      },
      "execution_count": 44,
      "outputs": [
        {
          "output_type": "execute_result",
          "data": {
            "text/plain": [
              "dispatching_base_num        0.000000\n",
              "pickup_datetime             0.000000\n",
              "dropOff_datetime            0.000000\n",
              "PUlocationID               83.527328\n",
              "DOlocationID               13.327044\n",
              "SR_Flag                   100.000000\n",
              "Affiliated_base_number      0.069651\n",
              "duration                    0.000000\n",
              "dtype: float64"
            ]
          },
          "metadata": {},
          "execution_count": 44
        }
      ]
    },
    {
      "cell_type": "code",
      "source": [
        "#replace the missing values with -1\n",
        "df_jan = df_jan.replace(np.nan,-1)"
      ],
      "metadata": {
        "id": "KDKqLzXonAg2"
      },
      "execution_count": 45,
      "outputs": []
    },
    {
      "cell_type": "code",
      "source": [
        "PUmiss_val_percent = 100 * len(df_jan[df_jan.PUlocationID == -1.0]) / len(df_jan)\n",
        "PUmiss_val_percent"
      ],
      "metadata": {
        "colab": {
          "base_uri": "https://localhost:8080/"
        },
        "id": "g2EkjLCVnAdb",
        "outputId": "470e1df7-52e4-403b-fa33-c0b28fc2c159"
      },
      "execution_count": 46,
      "outputs": [
        {
          "output_type": "execute_result",
          "data": {
            "text/plain": [
              "83.52732770722618"
            ]
          },
          "metadata": {},
          "execution_count": 46
        }
      ]
    },
    {
      "cell_type": "code",
      "source": [
        "DOmiss_val_percent = 100 * len(df_jan[df_jan.DOlocationID == -1.0]) / len(df_jan)\n",
        "DOmiss_val_percent"
      ],
      "metadata": {
        "colab": {
          "base_uri": "https://localhost:8080/"
        },
        "id": "yFxpyOzYnAaL",
        "outputId": "67a37533-983d-4d7d-d68a-d6d7e910401a"
      },
      "execution_count": 47,
      "outputs": [
        {
          "output_type": "execute_result",
          "data": {
            "text/plain": [
              "13.327044059158823"
            ]
          },
          "metadata": {},
          "execution_count": 47
        }
      ]
    },
    {
      "cell_type": "code",
      "source": [
        "from sklearn.feature_extraction import DictVectorizer\n",
        "from sklearn.linear_model import LinearRegression\n",
        "from sklearn.metrics import mean_squared_error"
      ],
      "metadata": {
        "id": "_5o5uNQBnAW0"
      },
      "execution_count": 48,
      "outputs": []
    },
    {
      "cell_type": "code",
      "source": [
        "def read_dataframe(filename):\n",
        "    df = pd.read_parquet(filename)\n",
        "    #çompute trip duration in minutes\n",
        "    df[\"duration\"] = df.dropOff_datetime - df.pickup_datetime\n",
        "    df.duration = df.duration.apply(lambda td: td.total_seconds()/60)\n",
        "\n",
        "    #Select all trips less than 60\n",
        "    df = df[(df.duration>=1) & (df.duration <=60)]\n",
        "    \n",
        "    #fill null values with -1\n",
        "    df = df.replace(np.nan,-1)\n",
        "\n",
        "    #Extract the most useful categorical and numerical variables from our dataset\n",
        "    categorical = ['PUlocationID','DOlocationID']\n",
        "\n",
        "    #Convert numerical variables to categorical variables\n",
        "    df[categorical] = df[categorical].astype(str)\n",
        "    \n",
        "    return df"
      ],
      "metadata": {
        "id": "eBHUYrrnnATf"
      },
      "execution_count": 49,
      "outputs": []
    },
    {
      "cell_type": "code",
      "source": [
        "df_train = read_dataframe(\"fhv_tripdata_2021-01.parquet\")\n",
        "df_val = read_dataframe(\"fhv_tripdata_2021-02.parquet\")\n",
        "df_train.shape, df_val.shape"
      ],
      "metadata": {
        "colab": {
          "base_uri": "https://localhost:8080/"
        },
        "id": "BsxiLv6znAQM",
        "outputId": "52562d27-8004-4c35-fae2-03b4b80bcd5e"
      },
      "execution_count": 50,
      "outputs": [
        {
          "output_type": "execute_result",
          "data": {
            "text/plain": [
              "((1109826, 8), (990113, 8))"
            ]
          },
          "metadata": {},
          "execution_count": 50
        }
      ]
    },
    {
      "cell_type": "code",
      "source": [
        "#Extract the most useful categorical variables from our dataset\n",
        "categorical = ['PUlocationID','DOlocationID']\n",
        "\n",
        "#perform data vectorization\n",
        "dv = DictVectorizer()"
      ],
      "metadata": {
        "id": "gVQiUat8nAM7"
      },
      "execution_count": 51,
      "outputs": []
    },
    {
      "cell_type": "code",
      "source": [
        "#Convert our selected features to dictionaries for our vectorizers to work and fit\n",
        "train_dicts = df_train[categorical].to_dict(orient='records')\n",
        "X_train = dv.fit_transform(train_dicts)\n",
        "X_train.shape"
      ],
      "metadata": {
        "colab": {
          "base_uri": "https://localhost:8080/"
        },
        "id": "W1r_V81-nAJq",
        "outputId": "adb19e02-6b6e-4f1f-debb-16715ec44ca8"
      },
      "execution_count": 52,
      "outputs": [
        {
          "output_type": "execute_result",
          "data": {
            "text/plain": [
              "(1109826, 525)"
            ]
          },
          "metadata": {},
          "execution_count": 52
        }
      ]
    },
    {
      "cell_type": "code",
      "source": [
        "#Convert our selected features to dictionaries for our vectorizers to work\n",
        "val_dicts = df_val[categorical].to_dict(orient='records')\n",
        "X_val = dv.transform(val_dicts)"
      ],
      "metadata": {
        "id": "fX7rhHNcnAGL"
      },
      "execution_count": 53,
      "outputs": []
    },
    {
      "cell_type": "code",
      "source": [
        "target = 'duration'\n",
        "y_train = df_train[target].values\n",
        "y_val = df_val[target].values"
      ],
      "metadata": {
        "id": "iJTpXoPVnACJ"
      },
      "execution_count": 54,
      "outputs": []
    },
    {
      "cell_type": "code",
      "source": [
        "#Apply Linear regression on Training dataset\n",
        "\n",
        "#train our model\n",
        "lr = LinearRegression()\n",
        "lr.fit(X_train, y_train)\n",
        "\n",
        "#model prediction\n",
        "y_pred = lr.predict(X_train)\n",
        "\n",
        "#evaluate our model\n",
        "rmse_train = mean_squared_error(y_train, y_pred, squared=False)\n",
        "rmse_train"
      ],
      "metadata": {
        "colab": {
          "base_uri": "https://localhost:8080/"
        },
        "id": "n1b35Klqm_-L",
        "outputId": "386e0fe2-47a2-47be-e1fe-249811d7dcfa"
      },
      "execution_count": 55,
      "outputs": [
        {
          "output_type": "execute_result",
          "data": {
            "text/plain": [
              "10.528519107213093"
            ]
          },
          "metadata": {},
          "execution_count": 55
        }
      ]
    },
    {
      "cell_type": "code",
      "source": [
        "#Apply Linear regression on Validation dataset\n",
        "\n",
        "#model prediction\n",
        "y_pred = lr.predict(X_val)\n",
        "\n",
        "#evaluate our model\n",
        "rmse_val = mean_squared_error(y_val, y_pred, squared=False)\n",
        "\n",
        "rmse_val"
      ],
      "metadata": {
        "colab": {
          "base_uri": "https://localhost:8080/"
        },
        "id": "3DpSxYD-oDGK",
        "outputId": "f923654a-4d1b-474f-eb8c-3c578bff1ae7"
      },
      "execution_count": 56,
      "outputs": [
        {
          "output_type": "execute_result",
          "data": {
            "text/plain": [
              "11.014283206231301"
            ]
          },
          "metadata": {},
          "execution_count": 56
        }
      ]
    }
  ]
}